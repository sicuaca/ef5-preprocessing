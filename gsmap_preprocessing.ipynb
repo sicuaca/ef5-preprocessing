{
 "cells": [
  {
   "cell_type": "markdown",
   "source": [
    "# GSMAP Preprocessing\n",
    "This notebook is used to preprocess the Gsmap data for the initialization of the model."
   ],
   "metadata": {
    "collapsed": false
   },
   "id": "7f1ada8c668f7a19"
  },
  {
   "cell_type": "code",
   "execution_count": 27,
   "id": "initial_id",
   "metadata": {
    "collapsed": true,
    "ExecuteTime": {
     "end_time": "2025-09-05T16:53:12.190272800Z",
     "start_time": "2025-09-05T16:53:12.188401Z"
    }
   },
   "outputs": [],
   "source": [
    "import gzip\n",
    "import xarray as xr\n",
    "import rioxarray\n",
    "import numpy as np\n",
    "from datetime import datetime, timedelta\n",
    "from pandas import date_range\n",
    "import os"
   ]
  },
  {
   "cell_type": "code",
   "execution_count": 3,
   "outputs": [],
   "source": [
    "gsmap_dir = 'D:/Projects/ef5-preprocessing/data/gsmap_daily'\n",
    "data_time = datetime(2024,1,1)\n",
    "filename = f'gsmap_gauge.{data_time:%Y%m%d}.0.1d.daily.00Z-23Z.v8.1000.0.dat.gz'"
   ],
   "metadata": {
    "collapsed": false,
    "ExecuteTime": {
     "end_time": "2025-09-05T16:20:33.767598300Z",
     "start_time": "2025-09-05T16:20:33.756798500Z"
    }
   },
   "id": "6a8a880ca002907e"
  },
  {
   "cell_type": "code",
   "execution_count": 5,
   "outputs": [],
   "source": [
    "# ----- Param metadata GSMaP 0.1° daily -----\n",
    "nx = 3600\n",
    "ny = 1200\n",
    "lon0, lat0 = 0.05, 59.95\n",
    "dlon, dlat = 0.1, -0.1\n",
    "\n",
    "# Buat koordinat\n",
    "lons = lon0 + np.arange(nx) * dlon\n",
    "lats = lat0 + np.arange(ny) * dlat"
   ],
   "metadata": {
    "collapsed": false,
    "ExecuteTime": {
     "end_time": "2025-09-05T16:23:27.166944800Z",
     "start_time": "2025-09-05T16:23:27.134045900Z"
    }
   },
   "id": "ba41353d6f8b061b"
  },
  {
   "cell_type": "code",
   "execution_count": 23,
   "outputs": [],
   "source": [
    "with gzip.open(os.path.join(gsmap_dir,filename), \"rb\") as f:\n",
    "    data = np.frombuffer(f.read(), dtype=\"<f4\")  # float32 little-endian\n",
    "    data = data.reshape(ny, nx)\n",
    "\n",
    "da = xr.DataArray(\n",
    "    data,\n",
    "    dims=(\"lat\", \"lon\"),\n",
    "    coords={\"lat\": lats, \"lon\": lons},\n",
    "    name=\"precip\"\n",
    ")\n",
    "\n",
    "extent = (105.0, -8.0, 108.9, -5.7)\n",
    "da_slice = da.sel(lat=slice(extent[3], extent[1]), lon=slice(extent[0], extent[2]))\n",
    "da_slice = da_slice * 24\n",
    "da_slice = da_slice.rio.write_crs(\"EPSG:4326\").astype(\"float32\")\n",
    "da_slice = da_slice.rio.set_spatial_dims(x_dim=\"lon\", y_dim=\"lat\")\n",
    "\n",
    "da_slice.rio.to_raster('gsmap_test.tif', compress=\"LZW\", fillValue=-9999, tiled=False)"
   ],
   "metadata": {
    "collapsed": false,
    "ExecuteTime": {
     "end_time": "2025-09-05T16:39:11.568559100Z",
     "start_time": "2025-09-05T16:39:11.418769800Z"
    }
   },
   "id": "4c97ed10e6739089"
  },
  {
   "cell_type": "markdown",
   "source": [
    "Wrap in function to process multiple files"
   ],
   "metadata": {
    "collapsed": false
   },
   "id": "d58ab89c95327e2"
  },
  {
   "cell_type": "code",
   "execution_count": 30,
   "outputs": [],
   "source": [
    "def clip_data(extent,in_filename,out_filename):\n",
    "    with gzip.open(in_filename, \"rb\") as f:\n",
    "        data = np.frombuffer(f.read(), dtype=\"<f4\")  # float32 little-endian\n",
    "        data = data.reshape(ny, nx)\n",
    "\n",
    "    da = xr.DataArray(\n",
    "        data,\n",
    "        dims=(\"lat\", \"lon\"),\n",
    "        coords={\"lat\": lats, \"lon\": lons},\n",
    "        name=\"precip\"\n",
    "    )\n",
    "\n",
    "    da_slice = da.sel(lat=slice(extent[3], extent[1]), lon=slice(extent[0], extent[2]))\n",
    "    da_slice = da_slice * 24\n",
    "    da_slice = da_slice.rio.write_crs(\"EPSG:4326\").astype(\"float32\")\n",
    "    da_slice = da_slice.rio.set_spatial_dims(x_dim=\"lon\", y_dim=\"lat\")\n",
    "\n",
    "    da_slice.rio.to_raster(out_filename, compress=\"LZW\", fillValue=-9999, tiled=False)"
   ],
   "metadata": {
    "collapsed": false,
    "ExecuteTime": {
     "end_time": "2025-09-05T17:00:18.198405300Z",
     "start_time": "2025-09-05T17:00:18.193543500Z"
    }
   },
   "id": "55cf2943fda36dca"
  },
  {
   "cell_type": "code",
   "execution_count": 31,
   "outputs": [],
   "source": [
    "out_path = f'D:/Projects/ef5-preprocessing/data/gsmap_daily/'\n",
    "data_times = date_range(start='2024-01-01', end='2025-02-28', freq='D')\n",
    "for data_time in data_times:\n",
    "    gsmap_dir = f'D:/Data/GSMAP_daily/{data_time:%Y%m}'\n",
    "    filename = f'gsmap_gauge.{data_time:%Y%m%d}.0.1d.daily.00Z-23Z.v8.1000.0.dat.gz'\n",
    "    in_filename = os.path.join(gsmap_dir,filename)\n",
    "    out_filename = os.path.join(out_path,f'gsmap.daily.{data_time:%Y%m%d}.tif')\n",
    "    extent = (105.0, -8.0, 108.9, -5.7)\n",
    "    clip_data(extent,in_filename,out_filename)"
   ],
   "metadata": {
    "collapsed": false,
    "ExecuteTime": {
     "end_time": "2025-09-05T17:01:05.609230Z",
     "start_time": "2025-09-05T17:00:18.942737Z"
    }
   },
   "id": "1ba14d2ef7c40869"
  },
  {
   "cell_type": "markdown",
   "source": [],
   "metadata": {
    "collapsed": false
   },
   "id": "8b9b8580c97bbb6e"
  },
  {
   "cell_type": "code",
   "execution_count": null,
   "outputs": [],
   "source": [],
   "metadata": {
    "collapsed": false
   },
   "id": "88d817d63d879afe"
  }
 ],
 "metadata": {
  "kernelspec": {
   "display_name": "Python 3",
   "language": "python",
   "name": "python3"
  },
  "language_info": {
   "codemirror_mode": {
    "name": "ipython",
    "version": 2
   },
   "file_extension": ".py",
   "mimetype": "text/x-python",
   "name": "python",
   "nbconvert_exporter": "python",
   "pygments_lexer": "ipython2",
   "version": "2.7.6"
  }
 },
 "nbformat": 4,
 "nbformat_minor": 5
}
